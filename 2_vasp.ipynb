{
 "cells": [
  {
   "cell_type": "code",
   "execution_count": 2,
   "metadata": {},
   "outputs": [],
   "source": [
    "from pymatgen.io.vasp.inputs import Poscar\n",
    "from ase.visualize import view\n",
    "import ase\n",
    "import os\n",
    "\n",
    "def view_(pymatgen_stru):\n",
    "    pymatgen_stru.to(filename=\".temp.vasp\", fmt=\"POSCAR\")\n",
    "    ase_stru = ase.io.read(\".temp.vasp\")\n",
    "    os.remove(\".temp.vasp\")\n",
    "    view(ase_stru)"
   ]
  },
  {
   "cell_type": "code",
   "execution_count": 5,
   "metadata": {},
   "outputs": [],
   "source": [
    "from pymatgen.io.vasp.inputs import Poscar\n",
    "import pymatgen.core as mg\n",
    "# 设置晶格\n",
    "lattice_cubic = mg.Lattice.cubic(3.8025)\n",
    "# 创建结构\n",
    "CN = mg.Structure(lattice=lattice_cubic, species=[\"C\",\"N\"], coords=[[0,0,0],[0.5,0.5,0.5]])\n",
    "# 转换为vasp结构\n",
    "CN_poscar = Poscar(CN)\n",
    "# 导出文件\n",
    "# CN.to(\"attach/CN.POSCAR\", fmt=\"POSCAR\")\n",
    "# CN_poscar.write_file(\"attach/CN.POSCAR\")"
   ]
  }
 ],
 "metadata": {
  "kernelspec": {
   "display_name": "Python 3.8.15 ('crystal')",
   "language": "python",
   "name": "python3"
  },
  "language_info": {
   "codemirror_mode": {
    "name": "ipython",
    "version": 3
   },
   "file_extension": ".py",
   "mimetype": "text/x-python",
   "name": "python",
   "nbconvert_exporter": "python",
   "pygments_lexer": "ipython3",
   "version": "3.8.15"
  },
  "orig_nbformat": 4,
  "vscode": {
   "interpreter": {
    "hash": "80028fe263a5db5899cd7f94cc649450a1b39a6604549fb80a772228a4553634"
   }
  }
 },
 "nbformat": 4,
 "nbformat_minor": 2
}
