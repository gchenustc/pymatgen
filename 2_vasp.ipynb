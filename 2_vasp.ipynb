{
 "cells": [
  {
   "cell_type": "code",
   "execution_count": null,
   "metadata": {},
   "outputs": [],
   "source": [
    "from pymatgen.io.vasp.inputs import Poscar\n",
    "import pymatgen.core as mg\n",
    "# 设置晶格\n",
    "lattice_cubic = mg.Lattice.cubic(3.8025)\n",
    "# 创建结构\n",
    "CN = mg.Structure(lattice=lattice_cubic, species=[\"C\",\"N\"], coords=[[0,0,0],[0.5,0.5,0.5]])\n",
    "# 结构绑定Poscar\n",
    "CN_poscar = Poscar(CN)\n",
    "# 导出Poscar\n",
    "CN_poscar.write_file(\"attach/CN.POSCAR\")\n"
   ]
  }
 ],
 "metadata": {
  "kernelspec": {
   "display_name": "Python 3.8.15 ('crystal')",
   "language": "python",
   "name": "python3"
  },
  "language_info": {
   "name": "python",
   "version": "3.8.15"
  },
  "orig_nbformat": 4,
  "vscode": {
   "interpreter": {
    "hash": "80028fe263a5db5899cd7f94cc649450a1b39a6604549fb80a772228a4553634"
   }
  }
 },
 "nbformat": 4,
 "nbformat_minor": 2
}
