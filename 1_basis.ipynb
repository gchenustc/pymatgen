{
 "cells": [
  {
   "cell_type": "code",
   "execution_count": null,
   "metadata": {},
   "outputs": [],
   "source": [
    "# 可视化pymatgen的结构\n",
    "def view(stru):\n",
    "    from pymatgen.io.vasp.inputs import Poscar\n",
    "    from ase.visualize import view\n",
    "    import ase\n",
    "    # 结构绑定Poscar\n",
    "    poscar = Poscar(stru)\n",
    "    # 导出Poscar\n",
    "    poscar.write_file(\"attach/CN.POSCAR\")\n",
    "    ase_stru = ase.io.read(\"./attach/CN.POSCAR\")\n",
    "    view(ase_stru)"
   ]
  },
  {
   "cell_type": "markdown",
   "metadata": {},
   "source": [
    "## Element"
   ]
  },
  {
   "cell_type": "code",
   "execution_count": 2,
   "metadata": {},
   "outputs": [
    {
     "data": {
      "text/plain": [
       "\"['X',\\n 'Z',\\n '__class__',\\n '__doc__',\\n '__module__',\\n 'as_dict',\\n 'atomic_mass',\\n 'atomic_radius',\\n 'average_anionic_radius',\\n 'average_cationic_radius',\\n 'average_ionic_radius',\\n 'block',\\n 'common_oxidation_states',\\n 'data',\\n 'electron_affinity',\\n 'electronic_structure',\\n 'from_Z',\\n 'from_dict',\\n 'from_name',\\n 'from_row_and_group',\\n 'full_electronic_structure',\\n 'ground_state_term_symbol',\\n 'group',\\n 'icsd_oxidation_states',\\n 'ionic_radii',\\n 'ionization_energy',\\n 'is_actinoid',\\n 'is_alkali',\\n 'is_alkaline',\\n 'is_chalcogen',\\n 'is_halogen',\\n 'is_lanthanoid',\\n 'is_metal',\\n 'is_metalloid',\\n 'is_noble_gas',\\n 'is_post_transition_metal',\\n 'is_quadrupolar',\\n 'is_rare_earth_metal',\\n 'is_transition_metal',\\n 'is_valid_symbol',\\n 'iupac_ordering',\\n 'long_name',\\n 'max_oxidation_state',\\n 'metallic_radius',\\n 'min_oxidation_state',\\n 'name',\\n 'nmr_quadrupole_moment',\\n 'number',\\n 'oxidation_states',\\n 'print_periodic_table',\\n 'row',\\n 'symbol',\\n 'term_symbols',\\n 'valence',\\n 'value']\""
      ]
     },
     "execution_count": 2,
     "metadata": {},
     "output_type": "execute_result"
    }
   ],
   "source": [
    "import pymatgen.core as mg\n",
    "si = mg.Element(\"Si\")\n",
    "# dir(si)\n",
    "\"\"\"['X',\n",
    " 'Z',\n",
    " '__class__',\n",
    " '__doc__',\n",
    " '__module__',\n",
    " 'as_dict',\n",
    " 'atomic_mass',\n",
    " 'atomic_radius',\n",
    " 'average_anionic_radius',\n",
    " 'average_cationic_radius',\n",
    " 'average_ionic_radius',\n",
    " 'block',\n",
    " 'common_oxidation_states',\n",
    " 'data',\n",
    " 'electron_affinity',\n",
    " 'electronic_structure',\n",
    " 'from_Z',\n",
    " 'from_dict',\n",
    " 'from_name',\n",
    " 'from_row_and_group',\n",
    " 'full_electronic_structure',\n",
    " 'ground_state_term_symbol',\n",
    " 'group',\n",
    " 'icsd_oxidation_states',\n",
    " 'ionic_radii',\n",
    " 'ionization_energy',\n",
    " 'is_actinoid',\n",
    " 'is_alkali',\n",
    " 'is_alkaline',\n",
    " 'is_chalcogen',\n",
    " 'is_halogen',\n",
    " 'is_lanthanoid',\n",
    " 'is_metal',\n",
    " 'is_metalloid',\n",
    " 'is_noble_gas',\n",
    " 'is_post_transition_metal',\n",
    " 'is_quadrupolar',\n",
    " 'is_rare_earth_metal',\n",
    " 'is_transition_metal',\n",
    " 'is_valid_symbol',\n",
    " 'iupac_ordering',\n",
    " 'long_name',\n",
    " 'max_oxidation_state',\n",
    " 'metallic_radius',\n",
    " 'min_oxidation_state',\n",
    " 'name',\n",
    " 'nmr_quadrupole_moment',\n",
    " 'number',\n",
    " 'oxidation_states',\n",
    " 'print_periodic_table',\n",
    " 'row',\n",
    " 'symbol',\n",
    " 'term_symbols',\n",
    " 'valence',\n",
    " 'value']\"\"\""
   ]
  },
  {
   "cell_type": "code",
   "execution_count": 12,
   "metadata": {},
   "outputs": [
    {
     "data": {
      "text/plain": [
       "1.1"
      ]
     },
     "execution_count": 12,
     "metadata": {},
     "output_type": "execute_result"
    }
   ],
   "source": [
    "# si.data[\"Atomic radius\"] # 1.1\n",
    "# si.atomic_radius # 1.1\n",
    "# si.full_electronic_structure # [(1, 's', 2), (2, 's', 2), (2, 'p', 6), (3, 's', 2), (3, 'p', 2)]\n",
    "# si.long_name # 'Silicon'\n",
    "# si.number # 14\n",
    "# si.atomic_mass # 28.0855"
   ]
  },
  {
   "cell_type": "markdown",
   "metadata": {},
   "source": [
    "## composition"
   ]
  },
  {
   "cell_type": "code",
   "execution_count": 19,
   "metadata": {},
   "outputs": [
    {
     "data": {
      "text/plain": [
       "\"\\n['add_charges_from_oxi_state_guesses',\\n 'allow_negative',\\n 'almost_equals',\\n 'alphabetical_formula',\\n 'amount_tolerance',\\n 'anonymized_formula',\\n 'as_dict',\\n 'average_electroneg',\\n 'chemical_system',\\n 'contains_element_type',\\n 'copy',\\n 'element_composition',\\n 'elements',\\n 'formula',\\n 'fractional_composition',\\n 'from_dict',\\n 'get',\\n 'get_atomic_fraction',\\n 'get_el_amt_dict',\\n 'get_integer_formula_and_factor',\\n 'get_reduced_composition_and_factor',\\n 'get_reduced_formula_and_factor',\\n 'get_wt_fraction',\\n 'hill_formula',\\n 'is_element',\\n 'items',\\n 'iupac_formula',\\n 'keys',\\n 'num_atoms',\\n 'oxi_prob',\\n 'oxi_state_guesses',\\n 'ranked_compositions_from_indeterminate_formula',\\n 'reduced_composition',\\n 'reduced_formula',\\n 'remove_charges',\\n 'replace',\\n 'special_formulas',\\n 'to_data_dict',\\n 'to_html_string',\\n 'to_json',\\n 'to_latex_string',\\n 'to_pretty_string',\\n 'to_reduced_dict',\\n 'to_unicode_string',\\n 'total_electrons',\\n 'unsafe_hash',\\n 'valid',\\n 'validate_monty',\\n 'values',\\n 'weight']\\n\""
      ]
     },
     "execution_count": 19,
     "metadata": {},
     "output_type": "execute_result"
    }
   ],
   "source": [
    "co2 = mg.Composition(\"CO2\")\n",
    "dir(co2)[49:]\n",
    "\"\"\"\n",
    "['add_charges_from_oxi_state_guesses',\n",
    " 'allow_negative',\n",
    " 'almost_equals',\n",
    " 'alphabetical_formula',\n",
    " 'amount_tolerance',\n",
    " 'anonymized_formula',\n",
    " 'as_dict',\n",
    " 'average_electroneg',\n",
    " 'chemical_system',\n",
    " 'contains_element_type',\n",
    " 'copy',\n",
    " 'element_composition',\n",
    " 'elements',\n",
    " 'formula',\n",
    " 'fractional_composition',\n",
    " 'from_dict',\n",
    " 'get',\n",
    " 'get_atomic_fraction',\n",
    " 'get_el_amt_dict',\n",
    " 'get_integer_formula_and_factor',\n",
    " 'get_reduced_composition_and_factor',\n",
    " 'get_reduced_formula_and_factor',\n",
    " 'get_wt_fraction',\n",
    " 'hill_formula',\n",
    " 'is_element',\n",
    " 'items',\n",
    " 'iupac_formula',\n",
    " 'keys',\n",
    " 'num_atoms',\n",
    " 'oxi_prob',\n",
    " 'oxi_state_guesses',\n",
    " 'ranked_compositions_from_indeterminate_formula',\n",
    " 'reduced_composition',\n",
    " 'reduced_formula',\n",
    " 'remove_charges',\n",
    " 'replace',\n",
    " 'special_formulas',\n",
    " 'to_data_dict',\n",
    " 'to_html_string',\n",
    " 'to_json',\n",
    " 'to_latex_string',\n",
    " 'to_pretty_string',\n",
    " 'to_reduced_dict',\n",
    " 'to_unicode_string',\n",
    " 'total_electrons',\n",
    " 'unsafe_hash',\n",
    " 'valid',\n",
    " 'validate_monty',\n",
    " 'values',\n",
    " 'weight']\n",
    "\"\"\""
   ]
  },
  {
   "cell_type": "code",
   "execution_count": 40,
   "metadata": {},
   "outputs": [
    {
     "data": {
      "text/plain": [
       "0.3333333333333333"
      ]
     },
     "execution_count": 40,
     "metadata": {},
     "output_type": "execute_result"
    }
   ],
   "source": [
    "# co2.elements # [Element C, Element O]\n",
    "# co2.weight # 44.0095\n",
    "# co2.total_electrons # 22.0\n",
    "# co2.get_atomic_fraction(\"C\") #0.3333333333333333"
   ]
  },
  {
   "cell_type": "markdown",
   "metadata": {},
   "source": [
    "## lattice"
   ]
  },
  {
   "cell_type": "code",
   "execution_count": 43,
   "metadata": {},
   "outputs": [
    {
     "data": {
      "text/plain": [
       "Lattice\n",
       "    abc : 3.8025 3.8025 3.8025\n",
       " angles : 90.0 90.0 90.0\n",
       " volume : 54.98037126562501\n",
       "      A : 3.8025 0.0 0.0\n",
       "      B : 0.0 3.8025 0.0\n",
       "      C : 0.0 0.0 3.8025\n",
       "    pbc : True True True"
      ]
     },
     "execution_count": 43,
     "metadata": {},
     "output_type": "execute_result"
    }
   ],
   "source": [
    "lattice_cubic = mg.Lattice.cubic(3.8025)\n",
    "lattice_cubic"
   ]
  },
  {
   "cell_type": "code",
   "execution_count": 50,
   "metadata": {},
   "outputs": [],
   "source": [
    "CN = mg.Structure(lattice=lattice_cubic, species=[\"C\",\"N\"], coords=[[0,0,0],[0.5,0.5,0.5]])\n",
    "view(CN)"
   ]
  },
  {
   "cell_type": "code",
   "execution_count": null,
   "metadata": {},
   "outputs": [],
   "source": []
  }
 ],
 "metadata": {
  "kernelspec": {
   "display_name": "Python 3.8.15 ('crystal')",
   "language": "python",
   "name": "python3"
  },
  "language_info": {
   "codemirror_mode": {
    "name": "ipython",
    "version": 3
   },
   "file_extension": ".py",
   "mimetype": "text/x-python",
   "name": "python",
   "nbconvert_exporter": "python",
   "pygments_lexer": "ipython3",
   "version": "3.8.15"
  },
  "orig_nbformat": 4,
  "vscode": {
   "interpreter": {
    "hash": "80028fe263a5db5899cd7f94cc649450a1b39a6604549fb80a772228a4553634"
   }
  }
 },
 "nbformat": 4,
 "nbformat_minor": 2
}
