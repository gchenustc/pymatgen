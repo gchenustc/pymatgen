{
 "cells": [
  {
   "cell_type": "code",
   "execution_count": 1,
   "metadata": {},
   "outputs": [],
   "source": [
    "import pymatgen.core as mg\n",
    "from pymatgen.io.vasp.inputs import Poscar\n",
    "from ase.visualize import view\n",
    "import ase\n",
    "import os\n",
    "\n",
    "def view_(pymatgen_stru):\n",
    "    pymatgen_stru.to(filename=\".temp.vasp\", fmt=\"POSCAR\")\n",
    "    ase_stru = ase.io.read(\".temp.vasp\")\n",
    "    os.remove(\".temp.vasp\")\n",
    "    view(ase_stru)"
   ]
  },
  {
   "cell_type": "markdown",
   "metadata": {},
   "source": [
    "## Element"
   ]
  },
  {
   "cell_type": "code",
   "execution_count": 35,
   "metadata": {},
   "outputs": [
    {
     "data": {
      "text/plain": [
       "\"['X',\\n 'Z',\\n '__class__',\\n '__doc__',\\n '__module__',\\n 'as_dict',\\n 'atomic_mass',\\n 'atomic_radius',\\n 'average_anionic_radius',\\n 'average_cationic_radius',\\n 'average_ionic_radius',\\n 'block',\\n 'common_oxidation_states',\\n 'data',\\n 'electron_affinity',\\n 'electronic_structure',\\n 'from_Z',\\n 'from_dict',\\n 'from_name',\\n 'from_row_and_group',\\n 'full_electronic_structure',\\n 'ground_state_term_symbol',\\n 'group',\\n 'icsd_oxidation_states',\\n 'ionic_radii',\\n 'ionization_energy',\\n 'is_actinoid',\\n 'is_alkali',\\n 'is_alkaline',\\n 'is_chalcogen',\\n 'is_halogen',\\n 'is_lanthanoid',\\n 'is_metal',\\n 'is_metalloid',\\n 'is_noble_gas',\\n 'is_post_transition_metal',\\n 'is_quadrupolar',\\n 'is_rare_earth_metal',\\n 'is_transition_metal',\\n 'is_valid_symbol',\\n 'iupac_ordering',\\n 'long_name',\\n 'max_oxidation_state',\\n 'metallic_radius',\\n 'min_oxidation_state',\\n 'name',\\n 'nmr_quadrupole_moment',\\n 'number',\\n 'oxidation_states',\\n 'print_periodic_table',\\n 'row',\\n 'symbol',\\n 'term_symbols',\\n 'valence',\\n 'value']\""
      ]
     },
     "execution_count": 35,
     "metadata": {},
     "output_type": "execute_result"
    }
   ],
   "source": [
    "si = mg.Element(\"Si\")\n",
    "# dir(si)\n",
    "\"\"\"['X',\n",
    " 'Z',\n",
    " '__class__',\n",
    " '__doc__',\n",
    " '__module__',\n",
    " 'as_dict',\n",
    " 'atomic_mass',\n",
    " 'atomic_radius',\n",
    " 'average_anionic_radius',\n",
    " 'average_cationic_radius',\n",
    " 'average_ionic_radius',\n",
    " 'block',\n",
    " 'common_oxidation_states',\n",
    " 'data',\n",
    " 'electron_affinity',\n",
    " 'electronic_structure',\n",
    " 'from_Z',\n",
    " 'from_dict',\n",
    " 'from_name',\n",
    " 'from_row_and_group',\n",
    " 'full_electronic_structure',\n",
    " 'ground_state_term_symbol',\n",
    " 'group',\n",
    " 'icsd_oxidation_states',\n",
    " 'ionic_radii',\n",
    " 'ionization_energy',\n",
    " 'is_actinoid',\n",
    " 'is_alkali',\n",
    " 'is_alkaline',\n",
    " 'is_chalcogen',\n",
    " 'is_halogen',\n",
    " 'is_lanthanoid',\n",
    " 'is_metal',\n",
    " 'is_metalloid',\n",
    " 'is_noble_gas',\n",
    " 'is_post_transition_metal',\n",
    " 'is_quadrupolar',\n",
    " 'is_rare_earth_metal',\n",
    " 'is_transition_metal',\n",
    " 'is_valid_symbol',\n",
    " 'iupac_ordering',\n",
    " 'long_name',\n",
    " 'max_oxidation_state',\n",
    " 'metallic_radius',\n",
    " 'min_oxidation_state',\n",
    " 'name',\n",
    " 'nmr_quadrupole_moment',\n",
    " 'number',\n",
    " 'oxidation_states',\n",
    " 'print_periodic_table',\n",
    " 'row',\n",
    " 'symbol',\n",
    " 'term_symbols',\n",
    " 'valence',\n",
    " 'value']\"\"\""
   ]
  },
  {
   "cell_type": "code",
   "execution_count": 12,
   "metadata": {},
   "outputs": [
    {
     "data": {
      "text/plain": [
       "1.1"
      ]
     },
     "execution_count": 12,
     "metadata": {},
     "output_type": "execute_result"
    }
   ],
   "source": [
    "# si.data[\"Atomic radius\"] # 1.1\n",
    "# si.atomic_radius # 1.1\n",
    "# si.full_electronic_structure # [(1, 's', 2), (2, 's', 2), (2, 'p', 6), (3, 's', 2), (3, 'p', 2)]\n",
    "# si.long_name # 'Silicon'\n",
    "# si.number # 14\n",
    "# si.atomic_mass # 28.0855"
   ]
  },
  {
   "cell_type": "markdown",
   "metadata": {},
   "source": [
    "## composition"
   ]
  },
  {
   "cell_type": "code",
   "execution_count": 9,
   "metadata": {},
   "outputs": [
    {
     "data": {
      "text/plain": [
       "collections.abc.ValuesView"
      ]
     },
     "execution_count": 9,
     "metadata": {},
     "output_type": "execute_result"
    }
   ],
   "source": [
    "co2 = mg.Composition(\"CO2\")\n",
    "dir(co2)[49:]\n",
    "\"\"\"\n",
    "['add_charges_from_oxi_state_guesses',\n",
    " 'allow_negative',\n",
    " 'almost_equals',\n",
    " 'alphabetical_formula',\n",
    " 'amount_tolerance',\n",
    " 'anonymized_formula',\n",
    " 'as_dict',\n",
    " 'average_electroneg',\n",
    " 'chemical_system',\n",
    " 'contains_element_type',\n",
    " 'copy',\n",
    " 'element_composition',\n",
    " 'elements',\n",
    " 'formula',\n",
    " 'fractional_composition',\n",
    " 'from_dict',\n",
    " 'get',\n",
    " 'get_atomic_fraction',\n",
    " 'get_el_amt_dict',\n",
    " 'get_integer_formula_and_factor',\n",
    " 'get_reduced_composition_and_factor',\n",
    " 'get_reduced_formula_and_factor',\n",
    " 'get_wt_fraction',\n",
    " 'hill_formula',\n",
    " 'is_element',\n",
    " 'items',\n",
    " 'iupac_formula',\n",
    " 'keys',\n",
    " 'num_atoms',\n",
    " 'oxi_prob',\n",
    " 'oxi_state_guesses',\n",
    " 'ranked_compositions_from_indeterminate_formula',\n",
    " 'reduced_composition',\n",
    " 'reduced_formula',\n",
    " 'remove_charges',\n",
    " 'replace',\n",
    " 'special_formulas',\n",
    " 'to_data_dict',\n",
    " 'to_html_string',\n",
    " 'to_json',\n",
    " 'to_latex_string',\n",
    " 'to_pretty_string',\n",
    " 'to_reduced_dict',\n",
    " 'to_unicode_string',\n",
    " 'total_electrons',\n",
    " 'unsafe_hash',\n",
    " 'valid',\n",
    " 'validate_monty',\n",
    " 'values',\n",
    " 'weight']\n",
    "\"\"\""
   ]
  },
  {
   "cell_type": "code",
   "execution_count": 40,
   "metadata": {},
   "outputs": [
    {
     "data": {
      "text/plain": [
       "0.3333333333333333"
      ]
     },
     "execution_count": 40,
     "metadata": {},
     "output_type": "execute_result"
    }
   ],
   "source": [
    "# co2.elements # [Element C, Element O]\n",
    "# co2.weight # 44.0095\n",
    "# co2.total_electrons # 22.0\n",
    "# co2.get_atomic_fraction(\"C\") #0.3333333333333333"
   ]
  },
  {
   "cell_type": "markdown",
   "metadata": {},
   "source": [
    "## lattice"
   ]
  },
  {
   "cell_type": "code",
   "execution_count": 4,
   "metadata": {},
   "outputs": [
    {
     "data": {
      "text/plain": [
       "Lattice\n",
       "    abc : 3.8025 3.8025 3.8025\n",
       " angles : 90.0 90.0 90.0\n",
       " volume : 54.98037126562501\n",
       "      A : 3.8025 0.0 0.0\n",
       "      B : 0.0 3.8025 0.0\n",
       "      C : 0.0 0.0 3.8025\n",
       "    pbc : True True True"
      ]
     },
     "execution_count": 4,
     "metadata": {},
     "output_type": "execute_result"
    }
   ],
   "source": [
    "lattice_cubic = mg.Lattice.cubic(3.8025)\n",
    "lattice_cubic"
   ]
  },
  {
   "cell_type": "code",
   "execution_count": 11,
   "metadata": {},
   "outputs": [],
   "source": [
    "CN = mg.Structure(lattice=lattice_cubic, species=[\"C\",\"N\"], coords=[[0,0,0],[0.5,0.5,0.5]])\n",
    "# view(CN)"
   ]
  },
  {
   "cell_type": "markdown",
   "metadata": {},
   "source": [
    "## spacegroup"
   ]
  },
  {
   "cell_type": "code",
   "execution_count": 13,
   "metadata": {},
   "outputs": [],
   "source": [
    "cgN = mg.Structure.from_spacegroup(sg=199, lattice=lattice_cubic, species=[\"N\"], coords=[[0.085,0.085,0.085]])\n",
    "# view(cgN)"
   ]
  },
  {
   "cell_type": "code",
   "execution_count": 14,
   "metadata": {},
   "outputs": [],
   "source": [
    "N = mg.Composition(\"N\")\n",
    "cgN = mg.Structure.from_spacegroup(sg=199, lattice=lattice_cubic, species=N, coords=[[0.085,0.085,0.085]])\n",
    "# view(cgN)"
   ]
  },
  {
   "cell_type": "code",
   "execution_count": 19,
   "metadata": {},
   "outputs": [],
   "source": [
    "N = mg.Composition(\"NO\")\n",
    "cgNO= mg.Structure.from_spacegroup(sg=199, lattice=lattice_cubic, species=N, coords=[[0.085,0.085,0.085],[0,0,0]])\n",
    "# view(cgNO)"
   ]
  },
  {
   "cell_type": "code",
   "execution_count": 40,
   "metadata": {},
   "outputs": [
    {
     "data": {
      "text/plain": [
       "(pymatgen.core.structure.Structure,\n",
       " pymatgen.core.sites.PeriodicSite,\n",
       " PeriodicSite: N (0.3232, 3.4793, 1.5780) [0.0850, 0.9150, 0.4150],\n",
       " array([0.3232125, 3.4792875, 1.5780375]),\n",
       " array([0.085, 0.915, 0.415]))"
      ]
     },
     "execution_count": 40,
     "metadata": {},
     "output_type": "execute_result"
    }
   ],
   "source": [
    "type(cgN), type(cgN[0]), cgN[0], cgN[0].coords, cgN[0].frac_coords"
   ]
  },
  {
   "cell_type": "code",
   "execution_count": 57,
   "metadata": {},
   "outputs": [
    {
     "name": "stdout",
     "output_type": "stream",
     "text": [
      "199\n",
      "I2_13\n",
      "Full Formula (N8)\n",
      "Reduced Formula: N2\n",
      "abc   :   3.802500   3.802500   3.802500\n",
      "angles:  90.000000  90.000000  90.000000\n",
      "pbc   :       True       True       True\n",
      "Sites (8)\n",
      "  #  SP        a      b      c\n",
      "---  ----  -----  -----  -----\n",
      "  0  N     0.085  0.915  0.415\n",
      "  1  N     0.415  0.915  0.585\n",
      "  2  N     0.415  0.085  0.915\n",
      "  3  N     0.085  0.085  0.085\n",
      "  4  N     0.585  0.415  0.915\n",
      "  5  N     0.915  0.415  0.085\n",
      "  6  N     0.915  0.585  0.415\n",
      "  7  N     0.585  0.585  0.585\n"
     ]
    }
   ],
   "source": [
    "from pymatgen.symmetry.analyzer import SpacegroupAnalyzer\n",
    "finder = SpacegroupAnalyzer(cgN)\n",
    "print(finder.get_space_group_number())\n",
    "print(finder.get_space_group_symbol())\n",
    "print(finder.get_conventional_standard_structure()) #?\n",
    "# 获得refined的结构\n",
    "# view(finder.get_refined_structure())\n",
    "# 获得原胞\n",
    "# view(finder.get_primitive_standard_structure())"
   ]
  },
  {
   "cell_type": "markdown",
   "metadata": {},
   "source": [
    "## READ and WRITE"
   ]
  },
  {
   "cell_type": "code",
   "execution_count": 62,
   "metadata": {},
   "outputs": [],
   "source": [
    "stru = mg.Structure.from_file(\"POSCAR.vasp\") # 输入\n",
    "# structure = mg.Structure.from_str(open(\"CsCl.cif\").read(), fmt=\"cif\")\n",
    "# structure = mg.Structure.from_file(\"CsCl.cif\")\n",
    "# stru.to(filename=\"POSCAR.vasp\", fmt=\"POSCAR\") # 输出"
   ]
  },
  {
   "cell_type": "code",
   "execution_count": 63,
   "metadata": {},
   "outputs": [],
   "source": [
    "# Because structure is like a list, it supports most list-like methods\n",
    "# such as sort, reverse, etc\n",
    "stru.sort()  # species排序,species内的各个原子还是不变\n",
    "stru.reverse()\n",
    "# stru.to(filename=\"POSCAR.vasp\", fmt=\"POSCAR\") # 输出"
   ]
  },
  {
   "cell_type": "code",
   "execution_count": 66,
   "metadata": {},
   "outputs": [],
   "source": [
    "stru[0] = \"H\", [0, 0, 0]  # 分数坐标\n",
    "stru.append(\"O\", [0.5,0.5,0.5]) # 分数坐标"
   ]
  },
  {
   "cell_type": "code",
   "execution_count": null,
   "metadata": {},
   "outputs": [],
   "source": []
  }
 ],
 "metadata": {
  "kernelspec": {
   "display_name": "Python 3.8.15 ('crystal')",
   "language": "python",
   "name": "python3"
  },
  "language_info": {
   "codemirror_mode": {
    "name": "ipython",
    "version": 3
   },
   "file_extension": ".py",
   "mimetype": "text/x-python",
   "name": "python",
   "nbconvert_exporter": "python",
   "pygments_lexer": "ipython3",
   "version": "3.8.15"
  },
  "orig_nbformat": 4,
  "vscode": {
   "interpreter": {
    "hash": "80028fe263a5db5899cd7f94cc649450a1b39a6604549fb80a772228a4553634"
   }
  }
 },
 "nbformat": 4,
 "nbformat_minor": 2
}
